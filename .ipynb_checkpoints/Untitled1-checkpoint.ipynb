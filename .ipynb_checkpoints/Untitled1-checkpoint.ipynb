{
 "cells": [
  {
   "cell_type": "code",
   "execution_count": 1,
   "metadata": {},
   "outputs": [],
   "source": [
    "data = [\n",
    "        ('pale', 'ple', True),\n",
    "        ('pales', 'pale', True),\n",
    "        ('pale', 'bale', True),\n",
    "        ('paleabc', 'pleabc', True),\n",
    "        ('pale', 'ble', False),\n",
    "        ('a', 'b', True),\n",
    "        ('', 'd', True),\n",
    "        ('d', 'de', True),\n",
    "        ('pale', 'pale', True),\n",
    "        ('pale', 'ple', True),\n",
    "        ('ple', 'pale', True),\n",
    "        ('pale', 'bale', True),\n",
    "        ('pale', 'bake', False),\n",
    "        ('pale', 'pse', False),\n",
    "        ('ples', 'pales', True),\n",
    "        ('pale', 'pas', False),\n",
    "        ('pas', 'pale', False),\n",
    "        ('pale', 'pkle', True),\n",
    "        ('pkle', 'pable', False),\n",
    "        ('pal', 'palks', False),\n",
    "        ('palks', 'pal', False)\n",
    "    ]"
   ]
  },
  {
   "cell_type": "code",
   "execution_count": 2,
   "metadata": {},
   "outputs": [
    {
     "data": {
      "text/plain": [
       "[('pale', 'ple', True),\n",
       " ('pales', 'pale', True),\n",
       " ('pale', 'bale', True),\n",
       " ('paleabc', 'pleabc', True),\n",
       " ('pale', 'ble', False),\n",
       " ('a', 'b', True),\n",
       " ('', 'd', True),\n",
       " ('d', 'de', True),\n",
       " ('pale', 'pale', True),\n",
       " ('pale', 'ple', True),\n",
       " ('ple', 'pale', True),\n",
       " ('pale', 'bale', True),\n",
       " ('pale', 'bake', False),\n",
       " ('pale', 'pse', False),\n",
       " ('ples', 'pales', True),\n",
       " ('pale', 'pas', False),\n",
       " ('pas', 'pale', False),\n",
       " ('pale', 'pkle', True),\n",
       " ('pkle', 'pable', False),\n",
       " ('pal', 'palks', False),\n",
       " ('palks', 'pal', False)]"
      ]
     },
     "execution_count": 2,
     "metadata": {},
     "output_type": "execute_result"
    }
   ],
   "source": [
    "data"
   ]
  },
  {
   "cell_type": "code",
   "execution_count": 7,
   "metadata": {},
   "outputs": [],
   "source": [
    "# A Naive recursive Python program to fin minimum number \n",
    "# operations to convert str1 to str2 \n",
    "def editDistance(str1, str2, m, n): \n",
    "    # If first string is empty, the only option is to \n",
    "    # insert all characters of second string into first \n",
    "    if m==0: \n",
    "        return n \n",
    "  \n",
    "    # If second string is empty, the only option is to \n",
    "    # remove all characters of first string \n",
    "    if n==0: \n",
    "        return m \n",
    "  \n",
    "    # If last characters of two strings are same, nothing \n",
    "    # much to do. Ignore last characters and get count for \n",
    "    # remaining strings. \n",
    "    if str1[m-1]==str2[n-1]: \n",
    "        return editDistance(str1,str2,m-1,n-1) \n",
    "  \n",
    "    # If last characters are not same, consider all three \n",
    "    # operations on last character of first string, recursively \n",
    "    # compute minimum cost for all three operations and take \n",
    "    # minimum of three values. \n",
    "    return 1 + min(editDistance(str1, str2, m, n-1),    # Insert \n",
    "                   editDistance(str1, str2, m-1, n),    # Remove \n",
    "                   editDistance(str1, str2, m-1, n-1)    # Replace \n",
    "                   ) "
   ]
  },
  {
   "cell_type": "code",
   "execution_count": 8,
   "metadata": {},
   "outputs": [
    {
     "ename": "TypeError",
     "evalue": "editDistance() takes 2 positional arguments but 4 were given",
     "output_type": "error",
     "traceback": [
      "\u001b[0;31m---------------------------------------------------------------------------\u001b[0m",
      "\u001b[0;31mTypeError\u001b[0m                                 Traceback (most recent call last)",
      "\u001b[0;32m<ipython-input-8-9e0b9a314141>\u001b[0m in \u001b[0;36m<module>\u001b[0;34m()\u001b[0m\n\u001b[0;32m----> 1\u001b[0;31m \u001b[0meditDistance\u001b[0m\u001b[0;34m(\u001b[0m\u001b[0;34m'pale'\u001b[0m\u001b[0;34m,\u001b[0m \u001b[0;34m'pkle'\u001b[0m\u001b[0;34m)\u001b[0m\u001b[0;34m\u001b[0m\u001b[0m\n\u001b[0m",
      "\u001b[0;32m<ipython-input-7-60a4788aea3b>\u001b[0m in \u001b[0;36meditDistance\u001b[0;34m(str1, str2)\u001b[0m\n\u001b[1;32m     18\u001b[0m     \u001b[0;31m# remaining strings.\u001b[0m\u001b[0;34m\u001b[0m\u001b[0;34m\u001b[0m\u001b[0m\n\u001b[1;32m     19\u001b[0m     \u001b[0;32mif\u001b[0m \u001b[0mstr1\u001b[0m\u001b[0;34m[\u001b[0m\u001b[0mm\u001b[0m\u001b[0;34m-\u001b[0m\u001b[0;36m1\u001b[0m\u001b[0;34m]\u001b[0m\u001b[0;34m==\u001b[0m\u001b[0mstr2\u001b[0m\u001b[0;34m[\u001b[0m\u001b[0mn\u001b[0m\u001b[0;34m-\u001b[0m\u001b[0;36m1\u001b[0m\u001b[0;34m]\u001b[0m\u001b[0;34m:\u001b[0m\u001b[0;34m\u001b[0m\u001b[0m\n\u001b[0;32m---> 20\u001b[0;31m         \u001b[0;32mreturn\u001b[0m \u001b[0meditDistance\u001b[0m\u001b[0;34m(\u001b[0m\u001b[0mstr1\u001b[0m\u001b[0;34m,\u001b[0m\u001b[0mstr2\u001b[0m\u001b[0;34m,\u001b[0m\u001b[0mm\u001b[0m\u001b[0;34m-\u001b[0m\u001b[0;36m1\u001b[0m\u001b[0;34m,\u001b[0m\u001b[0mn\u001b[0m\u001b[0;34m-\u001b[0m\u001b[0;36m1\u001b[0m\u001b[0;34m)\u001b[0m\u001b[0;34m\u001b[0m\u001b[0m\n\u001b[0m\u001b[1;32m     21\u001b[0m \u001b[0;34m\u001b[0m\u001b[0m\n\u001b[1;32m     22\u001b[0m     \u001b[0;31m# If last characters are not same, consider all three\u001b[0m\u001b[0;34m\u001b[0m\u001b[0;34m\u001b[0m\u001b[0m\n",
      "\u001b[0;31mTypeError\u001b[0m: editDistance() takes 2 positional arguments but 4 were given"
     ]
    }
   ],
   "source": [
    "editDistance('pale', 'pkle')"
   ]
  },
  {
   "cell_type": "code",
   "execution_count": null,
   "metadata": {},
   "outputs": [],
   "source": []
  }
 ],
 "metadata": {
  "kernelspec": {
   "display_name": "Python 3",
   "language": "python",
   "name": "python3"
  },
  "language_info": {
   "codemirror_mode": {
    "name": "ipython",
    "version": 3
   },
   "file_extension": ".py",
   "mimetype": "text/x-python",
   "name": "python",
   "nbconvert_exporter": "python",
   "pygments_lexer": "ipython3",
   "version": "3.6.6"
  }
 },
 "nbformat": 4,
 "nbformat_minor": 2
}
