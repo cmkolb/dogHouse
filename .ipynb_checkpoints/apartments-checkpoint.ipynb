{
 "cells": [
  {
   "cell_type": "markdown",
   "metadata": {},
   "source": [
    "#### Make notebook width 100%"
   ]
  },
  {
   "cell_type": "code",
   "execution_count": 1,
   "metadata": {
    "ExecuteTime": {
     "end_time": "2018-09-19T16:59:06.092948Z",
     "start_time": "2018-09-19T16:59:06.074002Z"
    }
   },
   "outputs": [
    {
     "data": {
      "text/html": [
       "<style>.container { width:100% !important; }</style>"
      ],
      "text/plain": [
       "<IPython.core.display.HTML object>"
      ]
     },
     "metadata": {},
     "output_type": "display_data"
    }
   ],
   "source": [
    "from IPython.core.display import display, HTML\n",
    "display(HTML(\"<style>.container { width:100% !important; }</style>\"))"
   ]
  },
  {
   "cell_type": "markdown",
   "metadata": {
    "ExecuteTime": {
     "end_time": "2018-09-12T01:34:53.167956Z",
     "start_time": "2018-09-12T01:34:49.047687Z"
    }
   },
   "source": [
    "#### Import packages "
   ]
  },
  {
   "cell_type": "code",
   "execution_count": 3,
   "metadata": {},
   "outputs": [
    {
     "data": {
      "text/plain": [
       "'/Users/chelseakolb/Box Sync/InsightProject/doggieDigs'"
      ]
     },
     "execution_count": 3,
     "metadata": {},
     "output_type": "execute_result"
    }
   ],
   "source": [
    "import os, random\n",
    "import pandas as pd\n",
    "from selenium import webdriver\n",
    "from selenium.webdriver.support.select import Select\n",
    "from selenium.webdriver.common.by import By\n",
    "from selenium.webdriver.support.ui import WebDriverWait\n",
    "from selenium.webdriver.support import expected_conditions as EC\n",
    "os.getcwd()"
   ]
  },
  {
   "cell_type": "markdown",
   "metadata": {},
   "source": [
    "#### Scraping apartments.com data"
   ]
  },
  {
   "cell_type": "code",
   "execution_count": 17,
   "metadata": {},
   "outputs": [],
   "source": [
    "# default apartments.com search for dog-friendly apartments in Pittsburgh, PA\n",
    "urlbase = \"https://www.apartments.com/pittsburgh-pa/pet-friendly-dog/?bb=1w0oys5voI2tkpkhC\"\n",
    "\n",
    "# open chrome webdriver window\n",
    "chromepath = '/Users/chelseakolb/Box Sync/InsightProject/dogHouse/chromedriver'\n",
    "driver = webdriver.Chrome(chromepath)\n",
    "# program in random weight that will range from 1-3 seconds.\n",
    "driver.implicitly_wait(30)\n",
    "# open page\n",
    "driver.get(urlbase)"
   ]
  },
  {
   "cell_type": "code",
   "execution_count": 18,
   "metadata": {
    "ExecuteTime": {
     "end_time": "2018-09-19T16:23:17.421794Z",
     "start_time": "2018-09-19T16:23:06.988370Z"
    },
    "scrolled": false
   },
   "outputs": [],
   "source": [
    "# here i'm creating custom functions to help make repeated tasks easy to call\n",
    "# first is to print the current page number, and the total page number\n",
    "def printPageInfo():\n",
    "    # Grab current page number and total pages\n",
    "    # Using it to iterate over pages\n",
    "    currentPage_xpath = \".//a[contains(@class,'active')]\" # href\n",
    "    currentPageElement = apartment.find_element_by_xpath(currentPage_xpath).get_attribute('data-page')\n",
    "    print('Currently on:. ',currentPageElement)    \n",
    "\n",
    "# Step 1: Grab all the apartment results\n",
    "aptID = []\n",
    "aptNAME = []\n",
    "aptURL = []\n",
    "aptADDRESS = []\n",
    "aptRENT = []\n",
    "aptUNIT = []\n",
    "aptAVAILABILITY = []\n",
    "aptPHONE = []\n",
    "aptEMAIL = []\n",
    "\n",
    "wait = WebDriverWait(driver, 30)"
   ]
  },
  {
   "cell_type": "code",
   "execution_count": 19,
   "metadata": {},
   "outputs": [
    {
     "ename": "StaleElementReferenceException",
     "evalue": "Message: stale element reference: element is not attached to the page document\n  (Session info: chrome=69.0.3497.100)\n  (Driver info: chromedriver=2.42.591059 (a3d9684d10d61aa0c45f6723b327283be1ebaad8),platform=Mac OS X 10.13.6 x86_64)\n",
     "output_type": "error",
     "traceback": [
      "\u001b[0;31m---------------------------------------------------------------------------\u001b[0m",
      "\u001b[0;31mStaleElementReferenceException\u001b[0m            Traceback (most recent call last)",
      "\u001b[0;32m<ipython-input-19-fe78091a7075>\u001b[0m in \u001b[0;36m<module>\u001b[0;34m()\u001b[0m\n\u001b[1;32m      4\u001b[0m     \u001b[0mcurrentPageApartments\u001b[0m \u001b[0;34m=\u001b[0m \u001b[0mdriver\u001b[0m\u001b[0;34m.\u001b[0m\u001b[0mfind_elements_by_xpath\u001b[0m\u001b[0;34m(\u001b[0m\u001b[0;34m\"//article\"\u001b[0m\u001b[0;34m)\u001b[0m\u001b[0;34m\u001b[0m\u001b[0m\n\u001b[1;32m      5\u001b[0m     \u001b[0;32mfor\u001b[0m \u001b[0mapartment\u001b[0m \u001b[0;32min\u001b[0m \u001b[0mcurrentPageApartments\u001b[0m\u001b[0;34m:\u001b[0m\u001b[0;34m\u001b[0m\u001b[0m\n\u001b[0;32m----> 6\u001b[0;31m         \u001b[0mapt_id\u001b[0m \u001b[0;34m=\u001b[0m \u001b[0mapartment\u001b[0m\u001b[0;34m.\u001b[0m\u001b[0mget_attribute\u001b[0m\u001b[0;34m(\u001b[0m\u001b[0;34m'data-listingid'\u001b[0m\u001b[0;34m)\u001b[0m\u001b[0;34m\u001b[0m\u001b[0m\n\u001b[0m\u001b[1;32m      7\u001b[0m         \u001b[0mapt_name_xpath\u001b[0m \u001b[0;34m=\u001b[0m \u001b[0;34m\".//a[contains(@class,'placard')]\"\u001b[0m \u001b[0;31m# title\u001b[0m\u001b[0;34m\u001b[0m\u001b[0m\n\u001b[1;32m      8\u001b[0m         \u001b[0mapt_url_xpath\u001b[0m \u001b[0;34m=\u001b[0m \u001b[0;34m\".//a[contains(@class,'placard')]\"\u001b[0m \u001b[0;31m# href\u001b[0m\u001b[0;34m\u001b[0m\u001b[0m\n",
      "\u001b[0;32m~/anaconda3/envs/insight/lib/python3.6/site-packages/selenium/webdriver/remote/webelement.py\u001b[0m in \u001b[0;36mget_attribute\u001b[0;34m(self, name)\u001b[0m\n\u001b[1;32m    141\u001b[0m                 self, name)\n\u001b[1;32m    142\u001b[0m         \u001b[0;32melse\u001b[0m\u001b[0;34m:\u001b[0m\u001b[0;34m\u001b[0m\u001b[0m\n\u001b[0;32m--> 143\u001b[0;31m             \u001b[0mresp\u001b[0m \u001b[0;34m=\u001b[0m \u001b[0mself\u001b[0m\u001b[0;34m.\u001b[0m\u001b[0m_execute\u001b[0m\u001b[0;34m(\u001b[0m\u001b[0mCommand\u001b[0m\u001b[0;34m.\u001b[0m\u001b[0mGET_ELEMENT_ATTRIBUTE\u001b[0m\u001b[0;34m,\u001b[0m \u001b[0;34m{\u001b[0m\u001b[0;34m'name'\u001b[0m\u001b[0;34m:\u001b[0m \u001b[0mname\u001b[0m\u001b[0;34m}\u001b[0m\u001b[0;34m)\u001b[0m\u001b[0;34m\u001b[0m\u001b[0m\n\u001b[0m\u001b[1;32m    144\u001b[0m             \u001b[0mattributeValue\u001b[0m \u001b[0;34m=\u001b[0m \u001b[0mresp\u001b[0m\u001b[0;34m.\u001b[0m\u001b[0mget\u001b[0m\u001b[0;34m(\u001b[0m\u001b[0;34m'value'\u001b[0m\u001b[0;34m)\u001b[0m\u001b[0;34m\u001b[0m\u001b[0m\n\u001b[1;32m    145\u001b[0m             \u001b[0;32mif\u001b[0m \u001b[0mattributeValue\u001b[0m \u001b[0;32mis\u001b[0m \u001b[0;32mnot\u001b[0m \u001b[0;32mNone\u001b[0m\u001b[0;34m:\u001b[0m\u001b[0;34m\u001b[0m\u001b[0m\n",
      "\u001b[0;32m~/anaconda3/envs/insight/lib/python3.6/site-packages/selenium/webdriver/remote/webelement.py\u001b[0m in \u001b[0;36m_execute\u001b[0;34m(self, command, params)\u001b[0m\n\u001b[1;32m    626\u001b[0m             \u001b[0mparams\u001b[0m \u001b[0;34m=\u001b[0m \u001b[0;34m{\u001b[0m\u001b[0;34m}\u001b[0m\u001b[0;34m\u001b[0m\u001b[0m\n\u001b[1;32m    627\u001b[0m         \u001b[0mparams\u001b[0m\u001b[0;34m[\u001b[0m\u001b[0;34m'id'\u001b[0m\u001b[0;34m]\u001b[0m \u001b[0;34m=\u001b[0m \u001b[0mself\u001b[0m\u001b[0;34m.\u001b[0m\u001b[0m_id\u001b[0m\u001b[0;34m\u001b[0m\u001b[0m\n\u001b[0;32m--> 628\u001b[0;31m         \u001b[0;32mreturn\u001b[0m \u001b[0mself\u001b[0m\u001b[0;34m.\u001b[0m\u001b[0m_parent\u001b[0m\u001b[0;34m.\u001b[0m\u001b[0mexecute\u001b[0m\u001b[0;34m(\u001b[0m\u001b[0mcommand\u001b[0m\u001b[0;34m,\u001b[0m \u001b[0mparams\u001b[0m\u001b[0;34m)\u001b[0m\u001b[0;34m\u001b[0m\u001b[0m\n\u001b[0m\u001b[1;32m    629\u001b[0m \u001b[0;34m\u001b[0m\u001b[0m\n\u001b[1;32m    630\u001b[0m     \u001b[0;32mdef\u001b[0m \u001b[0mfind_element\u001b[0m\u001b[0;34m(\u001b[0m\u001b[0mself\u001b[0m\u001b[0;34m,\u001b[0m \u001b[0mby\u001b[0m\u001b[0;34m=\u001b[0m\u001b[0mBy\u001b[0m\u001b[0;34m.\u001b[0m\u001b[0mID\u001b[0m\u001b[0;34m,\u001b[0m \u001b[0mvalue\u001b[0m\u001b[0;34m=\u001b[0m\u001b[0;32mNone\u001b[0m\u001b[0;34m)\u001b[0m\u001b[0;34m:\u001b[0m\u001b[0;34m\u001b[0m\u001b[0m\n",
      "\u001b[0;32m~/anaconda3/envs/insight/lib/python3.6/site-packages/selenium/webdriver/remote/webdriver.py\u001b[0m in \u001b[0;36mexecute\u001b[0;34m(self, driver_command, params)\u001b[0m\n\u001b[1;32m    318\u001b[0m         \u001b[0mresponse\u001b[0m \u001b[0;34m=\u001b[0m \u001b[0mself\u001b[0m\u001b[0;34m.\u001b[0m\u001b[0mcommand_executor\u001b[0m\u001b[0;34m.\u001b[0m\u001b[0mexecute\u001b[0m\u001b[0;34m(\u001b[0m\u001b[0mdriver_command\u001b[0m\u001b[0;34m,\u001b[0m \u001b[0mparams\u001b[0m\u001b[0;34m)\u001b[0m\u001b[0;34m\u001b[0m\u001b[0m\n\u001b[1;32m    319\u001b[0m         \u001b[0;32mif\u001b[0m \u001b[0mresponse\u001b[0m\u001b[0;34m:\u001b[0m\u001b[0;34m\u001b[0m\u001b[0m\n\u001b[0;32m--> 320\u001b[0;31m             \u001b[0mself\u001b[0m\u001b[0;34m.\u001b[0m\u001b[0merror_handler\u001b[0m\u001b[0;34m.\u001b[0m\u001b[0mcheck_response\u001b[0m\u001b[0;34m(\u001b[0m\u001b[0mresponse\u001b[0m\u001b[0;34m)\u001b[0m\u001b[0;34m\u001b[0m\u001b[0m\n\u001b[0m\u001b[1;32m    321\u001b[0m             response['value'] = self._unwrap_value(\n\u001b[1;32m    322\u001b[0m                 response.get('value', None))\n",
      "\u001b[0;32m~/anaconda3/envs/insight/lib/python3.6/site-packages/selenium/webdriver/remote/errorhandler.py\u001b[0m in \u001b[0;36mcheck_response\u001b[0;34m(self, response)\u001b[0m\n\u001b[1;32m    240\u001b[0m                 \u001b[0malert_text\u001b[0m \u001b[0;34m=\u001b[0m \u001b[0mvalue\u001b[0m\u001b[0;34m[\u001b[0m\u001b[0;34m'alert'\u001b[0m\u001b[0;34m]\u001b[0m\u001b[0;34m.\u001b[0m\u001b[0mget\u001b[0m\u001b[0;34m(\u001b[0m\u001b[0;34m'text'\u001b[0m\u001b[0;34m)\u001b[0m\u001b[0;34m\u001b[0m\u001b[0m\n\u001b[1;32m    241\u001b[0m             \u001b[0;32mraise\u001b[0m \u001b[0mexception_class\u001b[0m\u001b[0;34m(\u001b[0m\u001b[0mmessage\u001b[0m\u001b[0;34m,\u001b[0m \u001b[0mscreen\u001b[0m\u001b[0;34m,\u001b[0m \u001b[0mstacktrace\u001b[0m\u001b[0;34m,\u001b[0m \u001b[0malert_text\u001b[0m\u001b[0;34m)\u001b[0m\u001b[0;34m\u001b[0m\u001b[0m\n\u001b[0;32m--> 242\u001b[0;31m         \u001b[0;32mraise\u001b[0m \u001b[0mexception_class\u001b[0m\u001b[0;34m(\u001b[0m\u001b[0mmessage\u001b[0m\u001b[0;34m,\u001b[0m \u001b[0mscreen\u001b[0m\u001b[0;34m,\u001b[0m \u001b[0mstacktrace\u001b[0m\u001b[0;34m)\u001b[0m\u001b[0;34m\u001b[0m\u001b[0m\n\u001b[0m\u001b[1;32m    243\u001b[0m \u001b[0;34m\u001b[0m\u001b[0m\n\u001b[1;32m    244\u001b[0m     \u001b[0;32mdef\u001b[0m \u001b[0m_value_or_default\u001b[0m\u001b[0;34m(\u001b[0m\u001b[0mself\u001b[0m\u001b[0;34m,\u001b[0m \u001b[0mobj\u001b[0m\u001b[0;34m,\u001b[0m \u001b[0mkey\u001b[0m\u001b[0;34m,\u001b[0m \u001b[0mdefault\u001b[0m\u001b[0;34m)\u001b[0m\u001b[0;34m:\u001b[0m\u001b[0;34m\u001b[0m\u001b[0m\n",
      "\u001b[0;31mStaleElementReferenceException\u001b[0m: Message: stale element reference: element is not attached to the page document\n  (Session info: chrome=69.0.3497.100)\n  (Driver info: chromedriver=2.42.591059 (a3d9684d10d61aa0c45f6723b327283be1ebaad8),platform=Mac OS X 10.13.6 x86_64)\n"
     ]
    }
   ],
   "source": [
    "while(True):\n",
    "    loading_xpath=\"//article\"\n",
    "    loading = wait.until(EC.visibility_of_element_located((By.XPATH,loading_xpath)))\n",
    "    currentPageApartments = driver.find_elements_by_xpath(\"//article\")\n",
    "    for apartment in currentPageApartments:\n",
    "        apt_id = apartment.get_attribute('data-listingid')\n",
    "        apt_name_xpath = \".//a[contains(@class,'placard')]\" # title\n",
    "        apt_url_xpath = \".//a[contains(@class,'placard')]\" # href\n",
    "        apt_address_xpath = \".//div[contains(@class,'location')]\" # title\n",
    "        apt_rent_xpath = \".//span[contains(@class, 'altRentDisplay')]\" # text\n",
    "        apt_unit_xpath = \".//span[contains(@class, 'unitLabel')]\" # text\n",
    "        apt_availability_xpath = \".//span[contains(@class, 'availabilityDisplay noBedSelected')]\" # text\n",
    "        apt_phone_xpath = \".//span[contains(@id, 'gc-number-125')]\" #text\n",
    "        apt_email_xpath = \".//span[contains(@class, 'shortLabel')]\" #text\n",
    "        \n",
    "        try:\n",
    "            apt_name = apartment.find_element_by_xpath(apt_name_xpath).get_attribute('title')\n",
    "        except:\n",
    "            apt_name = \"NA\"\n",
    "        \n",
    "        try:\n",
    "            apt_url = apartment.find_element_by_xpath(apt_url_xpath).get_attribute('href')\n",
    "        except:\n",
    "            apt_url = \"NA\"\n",
    "        \n",
    "        try:\n",
    "            apt_address = apartment.find_element_by_xpath(apt_address_xpath).text\n",
    "        except:\n",
    "            apt_address = \"NA\"\n",
    "        \n",
    "        try:\n",
    "            apt_rent = apartment.find_element_by_xpath(apt_rent_xpath).text\n",
    "        except:\n",
    "            apt_rent = \"NA\"\n",
    "        \n",
    "        try:\n",
    "            apt_unit = apartment.find_element_by_xpath(apt_unit_xpath).text\n",
    "        except:\n",
    "            apt_unit = \"NA\"\n",
    "            \n",
    "        try:\n",
    "            apt_availability = apartment.find_element_by_xpath(apt_availability_xpath).text\n",
    "        except:\n",
    "            apt_availability = \"NA\"\n",
    "            \n",
    "        try:\n",
    "            apt_phone = apartment.find_element_by_xpath(apt_phone_xpath).text\n",
    "        except:\n",
    "            apt_phone = \"NA\"\n",
    "            \n",
    "        try:\n",
    "            apt_email = apartment.find_element_by_xpath(apt_email_xpath).text\n",
    "        except:\n",
    "            apt_email = \"NA\"\n",
    "        \n",
    "        aptID.append(apt_id)\n",
    "        aptNAME.append(apt_name)\n",
    "        aptURL.append(apt_url)\n",
    "        aptADDRESS.append(apt_address)\n",
    "        aptRENT.append(apt_rent)\n",
    "        aptUNIT.append(apt_unit)\n",
    "        aptAVAILABILITY.append(apt_availability)\n",
    "        aptPHONE.append(apt_phone)\n",
    "        aptEMAIL.append(apt_email)\n",
    "        \n",
    "    nextButton_xpath=\"//a[contains(@class,'next')]\"\n",
    "    \n",
    "    try:\n",
    "        nextURL=driver.find_element_by_xpath(nextButton_xpath).get_attribute('href')\n",
    "        driver.get(nextURL)\n",
    "        loading_xpath=\"//article\"\n",
    "        loading=wait.until(EC.visibility_of_element_located((By.XPATH,loading_xpath)))\n",
    "    except:\n",
    "        print('No more pages')\n",
    "        break"
   ]
  },
  {
   "cell_type": "code",
   "execution_count": 20,
   "metadata": {},
   "outputs": [
    {
     "name": "stdout",
     "output_type": "stream",
     "text": [
      "All done\n"
     ]
    }
   ],
   "source": [
    "pghDogApts = pd.DataFrame({'id': aptID, 'name': aptNAME, 'address': aptADDRESS, 'phone': aptPHONE,\n",
    "                           'email': aptEMAIL, 'rent': aptRENT, 'unit': aptUNIT, 'avail': aptAVAILABILITY, \n",
    "                           'url': aptURL})\n",
    "\n",
    "pghDogApts.to_csv('pghDogApts.csv')\n",
    "print('All done')\n",
    "driver.quit()"
   ]
  },
  {
   "cell_type": "code",
   "execution_count": 22,
   "metadata": {},
   "outputs": [
    {
     "data": {
      "text/plain": [
       "(251, 9)"
      ]
     },
     "execution_count": 22,
     "metadata": {},
     "output_type": "execute_result"
    }
   ],
   "source": [
    "pghDogApts.shape"
   ]
  },
  {
   "cell_type": "markdown",
   "metadata": {},
   "source": [
    "#### Scrape bringfido.com for parks"
   ]
  },
  {
   "cell_type": "code",
   "execution_count": 54,
   "metadata": {
    "ExecuteTime": {
     "end_time": "2018-09-19T18:31:21.586890Z",
     "start_time": "2018-09-19T18:00:27.312608Z"
    },
    "code_folding": [],
    "scrolled": false
   },
   "outputs": [],
   "source": [
    "# default bringfide.com search for dog parks in Pittsburgh, PA\n",
    "urlbase = \"https://www.bringfido.com/attraction/city/pittsburgh_pa_us/?distance=20&sort=popularity\"\n",
    "\n",
    "# open chrome webdriver window\n",
    "chromepath = '/Users/chelseakolb/Box Sync/InsightProject/dogHouse/chromedriver'\n",
    "driver = webdriver.Chrome(chromepath)\n",
    "# program in random weight that will range from 1-3 seconds.\n",
    "driver.implicitly_wait(20)\n",
    "# open page\n",
    "driver.get(urlbase)"
   ]
  },
  {
   "cell_type": "code",
   "execution_count": 55,
   "metadata": {
    "ExecuteTime": {
     "end_time": "2018-09-19T16:15:44.663784Z",
     "start_time": "2018-09-19T16:15:44.541847Z"
    }
   },
   "outputs": [
    {
     "name": "stdout",
     "output_type": "stream",
     "text": [
      "Message: element not interactable\n",
      "  (Session info: chrome=69.0.3497.100)\n",
      "  (Driver info: chromedriver=2.42.591059 (a3d9684d10d61aa0c45f6723b327283be1ebaad8),platform=Mac OS X 10.13.6 x86_64)\n",
      "\n",
      "Complete\n"
     ]
    }
   ],
   "source": [
    "import time\n",
    "patience_time = 60\n",
    "load_more_xpath = '//*[@id=\"browse-itemsprimary\"]/li[2]/button/span/span[2]' \n",
    "while(True):\n",
    "    try:\n",
    "        load_more_button = driver.find_element_by_xpath(\"//*[@id='more-results']\")\n",
    "        time.sleep(2)\n",
    "        load_more_button.click()\n",
    "        time.sleep(5)\n",
    "    except Exception as e:\n",
    "        print(e)\n",
    "        break\n",
    "print('Complete')\n",
    "time.sleep(10)\n",
    "\n",
    "# Step 1: Grab all the park results\n",
    "parkID = []\n",
    "parkNAME = []\n",
    "parkCITY = []\n",
    "parkDESCRIPTION = []\n",
    "\n",
    "wait = WebDriverWait(driver, 20)"
   ]
  },
  {
   "cell_type": "code",
   "execution_count": 56,
   "metadata": {},
   "outputs": [
    {
     "name": "stdout",
     "output_type": "stream",
     "text": [
      "Complete\n"
     ]
    }
   ],
   "source": [
    "while(True):\n",
    "    loading_xpath=\"//div[contains(@class,'info-ctn')]\"\n",
    "    loading = wait.until(EC.visibility_of_element_located((By.XPATH,loading_xpath)))\n",
    "    currentPageParks = driver.find_elements_by_xpath(\"//div[contains(@class,'info-ctn')]\")\n",
    "    for park in currentPageParks:\n",
    "        park_id_xpath = \".//a[contains(@target,'_blank')]\" # href\n",
    "        park_name_xpath = park_id_xpath # text\n",
    "        park_city_xpath = \".//a[contains(@href, '/attraction/city')]\" # text\n",
    "        park_description_xpath = \".//div[contains(@class,'description character-limit')]\" # text\n",
    "        \n",
    "        park_id = park.find_element_by_xpath(park_id_xpath).get_attribute('href')\n",
    "        park_name = park.find_element_by_xpath(park_name_xpath).text\n",
    "        \n",
    "        try:\n",
    "            park_city = park.find_element_by_xpath(park_city_xpath).text\n",
    "        except:\n",
    "            park_city = \"NA\"\n",
    "        \n",
    "        try:\n",
    "            park_description = park.find_element_by_xpath(park_description_xpath).text\n",
    "        except:\n",
    "            park_description = \"NA\"\n",
    "        \n",
    "        parkID.append(park_id)\n",
    "        parkNAME.append(park_name)\n",
    "        parkCITY.append(park_city)\n",
    "        parkDESCRIPTION.append(park_description)\n",
    "\n",
    "    print('Complete')\n",
    "    break"
   ]
  },
  {
   "cell_type": "code",
   "execution_count": 57,
   "metadata": {},
   "outputs": [
    {
     "name": "stdout",
     "output_type": "stream",
     "text": [
      "All done\n"
     ]
    }
   ],
   "source": [
    "pghDogParks = pd.DataFrame({'id': parkID, 'name': parkNAME, 'city': parkCITY, 'description': parkDESCRIPTION})\n",
    "\n",
    "pghDogParks.to_csv('pghDogParks.csv')\n",
    "print('All done')\n",
    "driver.quit()"
   ]
  },
  {
   "cell_type": "code",
   "execution_count": 61,
   "metadata": {},
   "outputs": [
    {
     "data": {
      "text/plain": [
       "(72, 4)"
      ]
     },
     "execution_count": 61,
     "metadata": {},
     "output_type": "execute_result"
    }
   ],
   "source": [
    "pghDogParks.shape"
   ]
  },
  {
   "cell_type": "code",
   "execution_count": 65,
   "metadata": {
    "ExecuteTime": {
     "end_time": "2018-09-15T15:26:45.205438Z",
     "start_time": "2018-09-15T15:26:44.728450Z"
    }
   },
   "outputs": [],
   "source": [
    "#### Scrape bringfido.com for restaurants"
   ]
  },
  {
   "cell_type": "code",
   "execution_count": 74,
   "metadata": {},
   "outputs": [
    {
     "name": "stdout",
     "output_type": "stream",
     "text": [
      "Message: element not interactable\n",
      "  (Session info: chrome=69.0.3497.100)\n",
      "  (Driver info: chromedriver=2.42.591059 (a3d9684d10d61aa0c45f6723b327283be1ebaad8),platform=Mac OS X 10.13.6 x86_64)\n",
      "\n",
      "Complete\n"
     ]
    }
   ],
   "source": [
    "# default bringfide.com search for dog-friendly restaurants in Pittsburgh, PA\n",
    "urlbase = \"https://www.bringfido.com/restaurant/city/pittsburgh_pa_us/?distance=20&sort=popularity\"\n",
    "\n",
    "# open chrome webdriver window\n",
    "chromepath = '/Users/chelseakolb/Box Sync/InsightProject/dogHouse/chromedriver'\n",
    "driver = webdriver.Chrome(chromepath)\n",
    "# program in random weight that will range from 1-3 seconds.\n",
    "driver.implicitly_wait(30)\n",
    "# open page\n",
    "driver.get(urlbase)\n",
    "\n",
    "import time\n",
    "patience_time = 60\n",
    "load_more_xpath = '//*[@id=\"browse-itemsprimary\"]/li[2]/button/span/span[2]' \n",
    "\n",
    "while(True):\n",
    "    try:\n",
    "        load_more_button = driver.find_element_by_xpath(\"//*[@id='more-results']\")\n",
    "        time.sleep(2)\n",
    "        load_more_button.click()\n",
    "        time.sleep(5)\n",
    "    except Exception as e:\n",
    "        print(e)\n",
    "        break\n",
    "print('Complete')\n",
    "time.sleep(20)\n",
    "\n",
    "# grab all the restaurant results\n",
    "restID = []\n",
    "restNAME = []\n",
    "restCITY = []\n",
    "restDESCRIPTION = []\n",
    "\n",
    "wait = WebDriverWait(driver, 30)"
   ]
  },
  {
   "cell_type": "code",
   "execution_count": null,
   "metadata": {},
   "outputs": [],
   "source": [
    "while(True):\n",
    "    loading_xpath=\"//div[contains(@class,'info-ctn')]\"\n",
    "    loading = wait.until(EC.visibility_of_element_located((By.XPATH,loading_xpath)))\n",
    "    currentPageRestaurants = driver.find_elements_by_xpath(\"//div[contains(@class,'info-ctn')]\")\n",
    "    for restaurant in currentPageRestaurants:\n",
    "        rest_id_xpath = \"//div[contains(@itemprop,'url')]\" # href\n",
    "        rest_name_xpath = rest_id_xpath+\"//span\" # text\n",
    "        rest_city_xpath = \".//a[contains(@href, '/attraction/city')]\" # text\n",
    "        rest_description_xpath = \".//div[contains(@class,'description character-limit')]\" # text\n",
    "        \n",
    "        try:\n",
    "            restaurant_id = restaurant.find_element_by_xpath(rest_id_xpath).get_attribute('id')\n",
    "        except:\n",
    "            restaurant_id = \"NA\"\n",
    "        \n",
    "        try:\n",
    "            restaurant_name = restaurant.find_element_by_xpath(rest_name_xpath).text\n",
    "        except:\n",
    "            restaurant_name = \"NA\"\n",
    "        \n",
    "        try:\n",
    "            restaurant_city = restaurant.find_element_by_xpath(rest_city_xpath).get_attribute('data-city')\n",
    "        except:\n",
    "            restaurant_city = \"NA\"\n",
    "        \n",
    "        try:\n",
    "            restaurant_description = restaurant.find_element_by_xpath(rest_description_xpath).get_attribute('data-type')\n",
    "        except:\n",
    "            restaurant_description = \"NA\"\n",
    "        \n",
    "        restID.append(restaurant_id)\n",
    "        restNAME.append(restaurant_name)\n",
    "        restCITY.append(restaurant_city)\n",
    "        restDESCRIPTION.append(restaurant_description)\n",
    "\n",
    "    print('Complete')\n",
    "    break\n",
    "\n",
    "pghDogRestaurants = pd.DataFrame({'id': restID, 'name': restNAME, 'city': restCITY, 'description': restDESCRIPTION})\n",
    "\n",
    "pghDogRestaurants.to_csv('pghDogRestaurants.csv')\n",
    "print('All done')\n",
    "driver.quit()\n",
    "\n",
    "pghDogRestaurants.shape"
   ]
  },
  {
   "cell_type": "code",
   "execution_count": null,
   "metadata": {},
   "outputs": [],
   "source": [
    "#### scrape bringfido.com for services\n",
    "\n",
    "# default bringfide.com search for dog services in Pittsburgh, PA\n",
    "urlbase = \"https://www.bringfido.com/resource/city/pittsburgh_pa_us/?distance=20&sort=popularity\"\n",
    "\n",
    "# open chrome webdriver window\n",
    "chromepath = '/Users/chelseakolb/Box Sync/InsightProject/dogHouse/chromedriver'\n",
    "driver = webdriver.Chrome(chromepath)\n",
    "# program in random weight that will range from 1-3 seconds.\n",
    "driver.implicitly_wait(10)\n",
    "# open page\n",
    "driver.get(urlbase)\n",
    "\n",
    "import time\n",
    "patience_time = 60\n",
    "load_more_xpath = '//*[@id=\"browse-itemsprimary\"]/li[2]/button/span/span[2]' \n",
    "\n",
    "while(True):\n",
    "    try:\n",
    "        load_more_button = driver.find_element_by_xpath(\"//*[@id='more-results']\")\n",
    "        time.sleep(2)\n",
    "        load_more_button.click()\n",
    "        time.sleep(5)\n",
    "    except Exception as e:\n",
    "        print(e)\n",
    "        break\n",
    "print('Complete')\n",
    "time.sleep(10)\n",
    "\n",
    "# Step 1: Grab all the park results\n",
    "serviceID = []\n",
    "serviceNAME = []\n",
    "serviceCITY = []\n",
    "serviceDESCRIPTION = []\n",
    "serviceURL = []\n",
    "\n",
    "wait = WebDriverWait(driver, 10)\n",
    "\n",
    "while(True):\n",
    "    loading_xpath=\"//div[contains(@class,'info-ctn')]\"\n",
    "    loading = wait.until(EC.visibility_of_element_located((By.XPATH,loading_xpath)))\n",
    "    currentPageServices = driver.find_elements_by_xpath(\"//div[contains(@class,'info-ctn')]\")\n",
    "    for service in currentPageServices:\n",
    "        service_id_xpath = \"//div[contains(@itemprop,'url')]\" # href\n",
    "        service_name_xpath = service_id_xpath+\"//span\" # text\n",
    "        service_city_xpath = \".//a[contains(@href,'/attraction/city')]\" # text\n",
    "        service_description_xpath = \".//div[contains(@class,'description character-limit')]\" # text\n",
    "        service_url_xpath = \".//div[contains(@class,'overlay-button')]\" # href\n",
    "        \n",
    "        try:\n",
    "            service_id = service.find_element_by_xpath(service_id_xpath).get_attribute('href')\n",
    "        except:\n",
    "            service_id = \"NA\"\n",
    "        \n",
    "        try:\n",
    "            service_name = service.find_element_by_xpath(service_name_xpath).text\n",
    "        except:\n",
    "            service_name = \"NA\"\n",
    "        \n",
    "        try:\n",
    "            service_city = service.find_element_by_xpath(service_city_xpath).text\n",
    "        except:\n",
    "            service_city = \"NA\"\n",
    "        \n",
    "        try:\n",
    "            service_description = service.find_element_by_xpath(service_description_xpath).text\n",
    "        except:\n",
    "            service_description = \"NA\"\n",
    "        \n",
    "        try:\n",
    "            service_url = service.find_element_by_xpath(service_url_xpath).get_attribute('href')\n",
    "        except:\n",
    "            service_url = \"NA\"\n",
    "        \n",
    "        serviceID.append(service_id)\n",
    "        serviceNAME.append(service_name)\n",
    "        serviceCITY.append(service_city)\n",
    "        serviceDESCRIPTION.append(service_description)\n",
    "        serviceURL.append(service_url)\n",
    "\n",
    "    print('Complete')\n",
    "    break\n",
    "\n",
    "pghDogServices = pd.DataFrame({'id': serviceID, 'name': serviceNAME, 'city': serviceCITY, 'description': serviceDESCRIPTION, 'url': serviceURL})\n",
    "\n",
    "pghDogServices.to_csv('pghDogServices.csv')\n",
    "print('All done')\n",
    "driver.quit()\n",
    "\n",
    "pghDogServices.shape"
   ]
  },
  {
   "cell_type": "code",
   "execution_count": null,
   "metadata": {},
   "outputs": [],
   "source": [
    "# from selenium.webdriver.support.ui import WebDriverWait\n",
    "# from selenium.webdriver.support import expected_conditions as EC\n",
    "# from selenium.common.exceptions import TimeoutException, UnexpectedAlertPresentException, NoSuchWindowException\n",
    "# from selenium.webdriver.common.by import By\n",
    "# from selenium.webdriver.common.alert import Alert\n",
    "# import codecs\n",
    "\n",
    "\n",
    "from selenium import webdriver\n",
    "import time\n",
    "import csv\n",
    "\n",
    "with open('pghDogParks.csv', 'r') as f:\n",
    "    reader = csv.reader(f.read().splitlines(), delimiter = ',')\n",
    "    data = [row for row in reader]\n",
    "\n",
    "##############\n",
    "filename = 'pghDogParks'\n",
    "############\n",
    "\n",
    "driver = webdriver.Chrome(chromepath)  # Optional argument, if not specified will search path.\n",
    "driver.get('http://www.latlong.net/')\n",
    "\n",
    "crash = 1\n",
    "results = []\n",
    "skipped = []\n",
    "for i,row in enumerate(data[1:]):\n",
    "    print(i)\n",
    "    search_term_xpath = \".//input[contains(@placeholder, 'Type a place name')]\"\n",
    "    search = driver.find_element_by_xpath(search_term_xpath)\n",
    "    search_term = row[2]+\" Pittsburgh, PA\"\n",
    "    search.clear()\n",
    "    try:\n",
    "        search.send_keys(search_term)\n",
    "    except:\n",
    "        print('Skiped %s' %search_term)\n",
    "        print(row)\n",
    "        skipped.append(row)\n",
    "        continue\n",
    "\n",
    "    search.submit()\n",
    "    time.sleep(1)\n",
    "    try:\n",
    "        lat = driver.find_element_by_id('lat')\n",
    "        long = driver.find_element_by_id('long')\n",
    "        lat_long = '('+lat+','+long+')'\n",
    "    except:\n",
    "        alert = driver.switch_to_alert()\n",
    "        alert.accept()\n",
    "        driver.switch_to_default_content()\n",
    "        print('Couldnt find %s' %search_term)\n",
    "        print(row)\n",
    "        skipped.append(row)\n",
    "        continue\n",
    "\n",
    "    lat_long = lat.text.strip('() ').split(',')\n",
    "    lat_long_clean = [float(n) for n in lat_long]\n",
    "\n",
    "    try:\n",
    "        driver.refresh()\n",
    "    except:\n",
    "        with open(filename + 'recovered' + '%i' %crash + '.csv' , \"wb\") as f:\n",
    "            writer = csv.writer(f)\n",
    "            writer.writerows(results)\n",
    "        crash +=1\n",
    "\n",
    "    print(lat_long_clean)\n",
    "    r = row\n",
    "    r.extend(lat_long_clean)\n",
    "    r.insert(0, i)\n",
    "    print(r)\n",
    "    results.append(r)\n",
    "\n",
    "    with open(filename + \".csv\", \"a\") as f:\n",
    "        writer = csv.writer(f)\n",
    "        writer.writerow(r)\n",
    "\n",
    "with open(filename + \"complete.csv\" , \"wb\") as f:\n",
    "    writer = csv.writer(f)\n",
    "    writer.writerows(results)"
   ]
  }
 ],
 "metadata": {
  "kernelspec": {
   "display_name": "Python 3",
   "language": "python",
   "name": "python3"
  },
  "language_info": {
   "codemirror_mode": {
    "name": "ipython",
    "version": 3
   },
   "file_extension": ".py",
   "mimetype": "text/x-python",
   "name": "python",
   "nbconvert_exporter": "python",
   "pygments_lexer": "ipython3",
   "version": "3.6.6"
  },
  "varInspector": {
   "cols": {
    "lenName": 16,
    "lenType": 16,
    "lenVar": 40
   },
   "kernels_config": {
    "python": {
     "delete_cmd_postfix": "",
     "delete_cmd_prefix": "del ",
     "library": "var_list.py",
     "varRefreshCmd": "print(var_dic_list())"
    },
    "r": {
     "delete_cmd_postfix": ") ",
     "delete_cmd_prefix": "rm(",
     "library": "var_list.r",
     "varRefreshCmd": "cat(var_dic_list()) "
    }
   },
   "types_to_exclude": [
    "module",
    "function",
    "builtin_function_or_method",
    "instance",
    "_Feature"
   ],
   "window_display": false
  }
 },
 "nbformat": 4,
 "nbformat_minor": 2
}
